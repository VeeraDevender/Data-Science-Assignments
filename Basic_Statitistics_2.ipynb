{
  "nbformat": 4,
  "nbformat_minor": 0,
  "metadata": {
    "colab": {
      "provenance": []
    },
    "kernelspec": {
      "name": "python3",
      "display_name": "Python 3"
    },
    "language_info": {
      "name": "python"
    }
  },
  "cells": [
    {
      "cell_type": "code",
      "source": [
        "data=[1.13, 1.55, 1.43, 0.92, 1.25, 1.36, 1.32, 0.85, 1.07, 1.48, 1.20, 1.33, 1.18, 1.22, 1.29] #Store the data into data variable\n",
        "print(data) #displaying the stored data"
      ],
      "metadata": {
        "id": "kNt9Kmxh7h_t",
        "colab": {
          "base_uri": "https://localhost:8080/"
        },
        "outputId": "b85696de-0704-40a6-c7f8-e7f8f98e6f39"
      },
      "execution_count": null,
      "outputs": [
        {
          "output_type": "stream",
          "name": "stdout",
          "text": [
            "[1.13, 1.55, 1.43, 0.92, 1.25, 1.36, 1.32, 0.85, 1.07, 1.48, 1.2, 1.33, 1.18, 1.22, 1.29]\n"
          ]
        }
      ]
    },
    {
      "cell_type": "code",
      "source": [
        "\n",
        "def Avg(x): #Creating function for calculating mean\n",
        "    return sum(x)/len(x) #Calculating the mean of the data\n",
        "\n",
        "def std_dev(x): #Creating function for calculating standard deviation\n",
        "    return (sum((i-Avg(x))**2 for i in x)/(len(x)-1))**0.5 #Calculating the standard deviation of the data\n",
        "\n",
        "mean = round(Avg(data),3) #make the mean value upto 3 decimals\n",
        "stan_dev = round(std_dev(data),3) #make standard deviation value upto 3 decimals\n",
        "print(\"Mean: \",mean) #display the mean value\n",
        "print(\"Standard Deviation: \",stan_dev) #display the standard deviation value"
      ],
      "metadata": {
        "colab": {
          "base_uri": "https://localhost:8080/"
        },
        "id": "41j2j2w8GDLi",
        "outputId": "7634b228-6fee-42ab-ae25-349b034d7f0c"
      },
      "execution_count": null,
      "outputs": [
        {
          "output_type": "stream",
          "name": "stdout",
          "text": [
            "Mean:  1.239\n",
            "Standard Deviation:  0.193\n"
          ]
        }
      ]
    },
    {
      "cell_type": "markdown",
      "source": [
        "***a. Build 99% Confidence Interval Using Sample Standard Deviation***"
      ],
      "metadata": {
        "id": "8mK4AiIyG1B1"
      }
    },
    {
      "cell_type": "code",
      "source": [
        "from scipy.stats import t\n",
        "t = round(t.ppf(0.99, df=(len(data)-1)),3) # Calculate the t value for a 99% confidence interval\n",
        "t"
      ],
      "metadata": {
        "colab": {
          "base_uri": "https://localhost:8080/"
        },
        "id": "_5lGFhIqGFSg",
        "outputId": "09bdcf7b-1727-427d-b18e-2e3e761a2ce0"
      },
      "execution_count": null,
      "outputs": [
        {
          "output_type": "execute_result",
          "data": {
            "text/plain": [
              "2.624"
            ]
          },
          "metadata": {},
          "execution_count": 3
        }
      ]
    },
    {
      "cell_type": "code",
      "source": [
        "Marginal_Error = t*(stan_dev/(len(data)**0.5)) #Claculating the marginal error\n",
        "Marginal_Error = round(Marginal_Error,3) #make marginal error upto 3 decimal value\n",
        "print(\"Marginal Error: \",Marginal_Error) #displaying the marginal error"
      ],
      "metadata": {
        "colab": {
          "base_uri": "https://localhost:8080/"
        },
        "id": "y1Hb_WCaGKjs",
        "outputId": "2556bed2-044f-4d4c-f739-28ad709ee63c"
      },
      "execution_count": null,
      "outputs": [
        {
          "output_type": "stream",
          "name": "stdout",
          "text": [
            "Marginal Error:  0.131\n"
          ]
        }
      ]
    },
    {
      "cell_type": "code",
      "source": [
        "print(\"Lower Limit: \",mean-Marginal_Error) #Displaying the lower limit in confidence interval\n",
        "print(\"Upper Limit: \",mean+Marginal_Error) #Displaying the upper limit in confidence interval"
      ],
      "metadata": {
        "colab": {
          "base_uri": "https://localhost:8080/"
        },
        "id": "auUrWnzWGILc",
        "outputId": "37de302c-9a3c-416d-8930-edb2977108c6"
      },
      "execution_count": null,
      "outputs": [
        {
          "output_type": "stream",
          "name": "stdout",
          "text": [
            "Lower Limit:  1.108\n",
            "Upper Limit:  1.37\n"
          ]
        }
      ]
    },
    {
      "cell_type": "code",
      "source": [
        "import numpy as np #importing the numpy library\n",
        "import scipy.stats as st #importing statistics library from scipy\n",
        "\n",
        "t_Boundaries = list(st.t.interval(0.99, len(data)-1, loc=np.mean(data), scale=st.sem(data))) #Calculating the confidence interval using built-in methods\n",
        "print(\"Lower Limit: \",round(t_Boundaries[0],3)) #Displaying lower limit of data upto 3 decimal\n",
        "print(\"Upper Limit: \",round(t_Boundaries[1],3)) #Displaying upper limit of data upto 3 decimal\n"
      ],
      "metadata": {
        "colab": {
          "base_uri": "https://localhost:8080/"
        },
        "id": "Q9_O3BNPGOcl",
        "outputId": "3f70d1cb-1169-4068-d52d-ff385adb7950"
      },
      "execution_count": null,
      "outputs": [
        {
          "output_type": "stream",
          "name": "stdout",
          "text": [
            "Lower Limit:  1.09\n",
            "Upper Limit:  1.387\n"
          ]
        }
      ]
    },
    {
      "cell_type": "markdown",
      "source": [
        "****b. Build 99% Confidence Interval Using Known Population Standard Deviation***"
      ],
      "metadata": {
        "id": "sq5ZTkfHG7wp"
      }
    },
    {
      "cell_type": "code",
      "source": [
        "from scipy.stats import norm\n",
        "z = round(norm.ppf(0.995),2) # Calculate the z value for a 99% confidence interval\n",
        "z"
      ],
      "metadata": {
        "colab": {
          "base_uri": "https://localhost:8080/"
        },
        "id": "h77YVb2UGTqi",
        "outputId": "050bf725-67a1-4f76-af22-26f70c53566c"
      },
      "execution_count": null,
      "outputs": [
        {
          "output_type": "execute_result",
          "data": {
            "text/plain": [
              "2.58"
            ]
          },
          "metadata": {},
          "execution_count": 7
        }
      ]
    },
    {
      "cell_type": "code",
      "source": [
        "Marginal_Error = z*(0.2/(len(data)**0.5)) #Calculating the marginal error with help of z(critical value)\n",
        "Marginal_Error = round(Marginal_Error,3) #Make the marginal error into 3 decimal\n",
        "print(\"Marginal Error: \",Marginal_Error) #Displaying marginal error"
      ],
      "metadata": {
        "colab": {
          "base_uri": "https://localhost:8080/"
        },
        "id": "F4TL1k6fGRvF",
        "outputId": "871dc22b-db25-417a-880a-6fa5b0726fb5"
      },
      "execution_count": null,
      "outputs": [
        {
          "output_type": "stream",
          "name": "stdout",
          "text": [
            "Marginal Error:  0.133\n"
          ]
        }
      ]
    },
    {
      "cell_type": "code",
      "source": [
        "print(\"Lower Limit: \",round(mean-Marginal_Error,3)) #Displaying lower limit of data upto 3 decimal\n",
        "print(\"Upper Limit: \",round(mean+Marginal_Error,3)) #Displaying upper limit of data upto 3 decimal"
      ],
      "metadata": {
        "colab": {
          "base_uri": "https://localhost:8080/"
        },
        "id": "rr0pSAlOGX01",
        "outputId": "980af0c8-bcf8-4a83-9b78-e7c262d05568"
      },
      "execution_count": null,
      "outputs": [
        {
          "output_type": "stream",
          "name": "stdout",
          "text": [
            "Lower Limit:  1.106\n",
            "Upper Limit:  1.372\n"
          ]
        }
      ]
    },
    {
      "cell_type": "code",
      "source": [
        "z_Boundaries = st.norm.interval(0.99, loc=np.mean(data), scale=st.sem(data)) #Calculating the confidence interval using built-in methods\n",
        "print(\"Lower Limit: \",round(z_Boundaries[0],3)) #Displaying lower limit of data upto 3 decimal\n",
        "print(\"Upper Limit: \",round(z_Boundaries[1],3)) #Displaying upper limit of data upto 3 decimal"
      ],
      "metadata": {
        "colab": {
          "base_uri": "https://localhost:8080/"
        },
        "id": "7aG-WhjJGakc",
        "outputId": "00cd6d02-d591-440e-e5d9-07dcaaa7537c"
      },
      "execution_count": null,
      "outputs": [
        {
          "output_type": "stream",
          "name": "stdout",
          "text": [
            "Lower Limit:  1.11\n",
            "Upper Limit:  1.367\n"
          ]
        }
      ]
    }
  ]
}