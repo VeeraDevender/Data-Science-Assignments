{
  "nbformat": 4,
  "nbformat_minor": 0,
  "metadata": {
    "colab": {
      "provenance": []
    },
    "kernelspec": {
      "name": "python3",
      "display_name": "Python 3"
    },
    "language_info": {
      "name": "python"
    }
  },
  "cells": [
    {
      "cell_type": "markdown",
      "source": [
        "***CHECK GIVEN NUMBER IS PRIME OR NOT***:\n",
        "\n",
        "**Write a Python program that checks whether a given number is prime or not. A prime number is a natural number greater than 1 that has no positive divisors other than 1 and itself**"
      ],
      "metadata": {
        "id": "qPHXOpL89np0"
      }
    },
    {
      "cell_type": "code",
      "execution_count": null,
      "metadata": {
        "colab": {
          "base_uri": "https://localhost:8080/"
        },
        "id": "5wITfbNllpRH",
        "outputId": "599b9f16-0506-4f9f-b2d7-723d979742a2"
      },
      "outputs": [
        {
          "output_type": "stream",
          "name": "stdout",
          "text": [
            "Enter a Number: 4\n",
            "4 Is not a Prime Number\n"
          ]
        }
      ],
      "source": [
        "Num = int(input(\"Enter a Number: \"))\n",
        "if Num>1:\n",
        "  for i in range(2,Num):\n",
        "    if Num%i==0:\n",
        "      print(Num, \"Is not a Prime Number\")\n",
        "      break\n",
        "    else:\n",
        "      print(Num, \"Is a Prime Number\")\n",
        "      break\n",
        "else:\n",
        "  print(Num, \"Is not a prime number\")"
      ]
    },
    {
      "cell_type": "markdown",
      "source": [
        "***Product of Random Numbers***:\n",
        "\n",
        "**Develop a Python program that generates two random numbers and asks the user to enter the product of these numbers. The program should then check if the user's answer is correct and display an appropriate message.**"
      ],
      "metadata": {
        "id": "2mL3xqem9-6Z"
      }
    },
    {
      "cell_type": "code",
      "source": [
        "import random\n",
        "Num1=random.randrange(15)\n",
        "Num2=random.randrange(15)\n",
        "Result1=Num1*Num2\n",
        "Result2=int(input(\"Enter Number:\"))\n",
        "if Result1==Result2:\n",
        "  print(\"Correct\")\n",
        "else:\n",
        "  print(\"Wrong\")"
      ],
      "metadata": {
        "colab": {
          "base_uri": "https://localhost:8080/"
        },
        "id": "z7klKkR4nk0f",
        "outputId": "18574ec3-de51-43bd-c60c-ea691eaa629d"
      },
      "execution_count": null,
      "outputs": [
        {
          "output_type": "stream",
          "name": "stdout",
          "text": [
            "Enter Number:3\n",
            "Wrong\n"
          ]
        }
      ]
    },
    {
      "cell_type": "markdown",
      "source": [
        "***Squares of Even/Odd Numbers***:\n",
        "\n",
        "**Create a Python script that prints the squares of all even or odd numbers within the range of 100 to 200. Choose either even or odd numbers and document your choice in the code.**"
      ],
      "metadata": {
        "id": "gUy69OT8-T0c"
      }
    },
    {
      "cell_type": "code",
      "source": [
        "list1=[]\n",
        "for i in range(100,201,1):\n",
        "  list1.append(i**2)\n",
        "print(list1)"
      ],
      "metadata": {
        "colab": {
          "base_uri": "https://localhost:8080/"
        },
        "id": "bcot7Oy2qP9a",
        "outputId": "4ad5be51-b29f-4c06-aeb7-969cab3468b6"
      },
      "execution_count": null,
      "outputs": [
        {
          "output_type": "stream",
          "name": "stdout",
          "text": [
            "[10000, 10201, 10404, 10609, 10816, 11025, 11236, 11449, 11664, 11881, 12100, 12321, 12544, 12769, 12996, 13225, 13456, 13689, 13924, 14161, 14400, 14641, 14884, 15129, 15376, 15625, 15876, 16129, 16384, 16641, 16900, 17161, 17424, 17689, 17956, 18225, 18496, 18769, 19044, 19321, 19600, 19881, 20164, 20449, 20736, 21025, 21316, 21609, 21904, 22201, 22500, 22801, 23104, 23409, 23716, 24025, 24336, 24649, 24964, 25281, 25600, 25921, 26244, 26569, 26896, 27225, 27556, 27889, 28224, 28561, 28900, 29241, 29584, 29929, 30276, 30625, 30976, 31329, 31684, 32041, 32400, 32761, 33124, 33489, 33856, 34225, 34596, 34969, 35344, 35721, 36100, 36481, 36864, 37249, 37636, 38025, 38416, 38809, 39204, 39601, 40000]\n"
          ]
        }
      ]
    },
    {
      "cell_type": "markdown",
      "source": [
        "***Word Counter***::\n",
        "\n",
        "**write a program to count the number of words in a given text.\n",
        "example:\n",
        "input_text = \"This is a sample text. This text will be used to demonstrate the word counter.\"\n",
        "Expected output:'This': 2, 'is': 1, 'a': 1,'sample': 1,'text.': 1**"
      ],
      "metadata": {
        "id": "i0pBS6BA-s0L"
      }
    },
    {
      "cell_type": "code",
      "source": [
        "string=list(input(\"Enter a String:\").split(\" \"))\n",
        "dict1={}\n",
        "for i in string:\n",
        "  dict1[i]=string.count(i)\n",
        "print(dict1)"
      ],
      "metadata": {
        "colab": {
          "base_uri": "https://localhost:8080/"
        },
        "id": "mmAeMLLlrQtt",
        "outputId": "4091b0ff-9385-4bfb-c830-ac9976afb9e0"
      },
      "execution_count": null,
      "outputs": [
        {
          "output_type": "stream",
          "name": "stdout",
          "text": [
            "Enter a String:This is a sample text. This text will be used to demonstrate the word counter\n",
            "{'This': 2, 'is': 1, 'a': 1, 'sample': 1, 'text.': 1, 'text': 1, 'will': 1, 'be': 1, 'used': 1, 'to': 1, 'demonstrate': 1, 'the': 1, 'word': 1, 'counter': 1}\n"
          ]
        }
      ]
    },
    {
      "cell_type": "markdown",
      "source": [
        "***Check for Palindrome***:\n",
        "\n",
        "**Write a Python function called is_palindrome that takes a string as input and returns True if the string is a palindrome, and False otherwise. A palindrome is a word, phrase, number, or other sequence of characters that reads the same forward and backward, ignoring spaces, punctuation, and capitalization. Example: Input: \"racecar\" Expected Output: True**"
      ],
      "metadata": {
        "id": "DWGJOviJ_CDP"
      }
    },
    {
      "cell_type": "code",
      "source": [
        "string=input(\"Enter a string:\")\n",
        "if string==string[::-1]:\n",
        "  print(\"Palindrome\")\n",
        "else:\n",
        "  print(\"Not a Palindrome\")"
      ],
      "metadata": {
        "colab": {
          "base_uri": "https://localhost:8080/"
        },
        "id": "48sfpif3tZNT",
        "outputId": "86331856-a64a-41da-e230-005eff92d8a0"
      },
      "execution_count": null,
      "outputs": [
        {
          "output_type": "stream",
          "name": "stdout",
          "text": [
            "Enter a string:racecar\n",
            "Palindrome\n"
          ]
        }
      ]
    }
  ]
}