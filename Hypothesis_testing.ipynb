{
  "nbformat": 4,
  "nbformat_minor": 0,
  "metadata": {
    "colab": {
      "provenance": []
    },
    "kernelspec": {
      "name": "python3",
      "display_name": "Python 3"
    },
    "language_info": {
      "name": "python"
    }
  },
  "cells": [
    {
      "cell_type": "markdown",
      "source": [
        "**Objective:**\n",
        "\n",
        "To investigate the restaurant owners' claim about the increase in weekly operating costs using hypothesis testing.\n",
        "\n",
        "**Data Provided:**\n",
        "\n",
        "1. The theoretical weekly operating cost model: W = 5X\n",
        "2. Sample of 25 restaurants with a mean weekly cost of Rs. 3,050\n",
        "3. Number of units produced in a week (X) follows a normal distribution with a mean (μ) of 600 units and a standard deviation (σ) of 25 units\n",
        "\n",
        "**State the Hypotheses statement:**\n",
        "\n",
        "Null Hypothesis: There is no change in the restaurent weekly operating costs\n",
        "\n",
        "Alternative Hypothesis: There is change of increasing in the restaurent weekly operating costs\n",
        "\n",
        "**Calculate the Test Statistic:**\n",
        "\n",
        "From the data"
      ],
      "metadata": {
        "id": "Oua5rzMCOdVo"
      }
    },
    {
      "cell_type": "code",
      "execution_count": null,
      "metadata": {
        "id": "iMfaH_l-OOPu"
      },
      "outputs": [],
      "source": [
        "sample_mean = 3050 #Get the from given file\n",
        "x = 600\n",
        "population_mean = 1000+5*x\n",
        "std_deviation = 5*25\n",
        "sample_size = 25\n"
      ]
    },
    {
      "cell_type": "code",
      "source": [
        "z = round((sample_mean-population_mean)/(std_deviation/(sample_size**0.5)),3) #Calculating the z value\n",
        "z"
      ],
      "metadata": {
        "colab": {
          "base_uri": "https://localhost:8080/"
        },
        "id": "9axhCUBqOl05",
        "outputId": "da9e2153-da37-49bc-dbbe-71f36f51cc0b"
      },
      "execution_count": null,
      "outputs": [
        {
          "output_type": "execute_result",
          "data": {
            "text/plain": [
              "-38.0"
            ]
          },
          "metadata": {},
          "execution_count": 4
        }
      ]
    },
    {
      "cell_type": "markdown",
      "source": [
        "\n",
        "***Determine the Critical Value:***"
      ],
      "metadata": {
        "id": "SwDQzQlvPNbQ"
      }
    },
    {
      "cell_type": "code",
      "source": [
        "from scipy.stats import norm\n",
        "critical_value = round(norm.ppf(0.95),3) #Taken critical value\n",
        "critical_value"
      ],
      "metadata": {
        "colab": {
          "base_uri": "https://localhost:8080/"
        },
        "id": "nq9-z_7OOue9",
        "outputId": "64003850-cb2a-4f05-abb7-cc6c681665f3"
      },
      "execution_count": null,
      "outputs": [
        {
          "output_type": "execute_result",
          "data": {
            "text/plain": [
              "1.645"
            ]
          },
          "metadata": {},
          "execution_count": 5
        }
      ]
    },
    {
      "cell_type": "markdown",
      "source": [
        "**Make a Decision:**"
      ],
      "metadata": {
        "id": "0w2lfIsJPTDQ"
      }
    },
    {
      "cell_type": "code",
      "source": [
        "if z > critical_value: #Check we want to accept null hypothesis or not\n",
        "    print(\"Accept the Null Hypothesis\")\n",
        "else:\n",
        "    print(\"Failed to accept Null Hypothesis\")"
      ],
      "metadata": {
        "colab": {
          "base_uri": "https://localhost:8080/"
        },
        "id": "flsLVGbEOwYx",
        "outputId": "9bc59a2d-72fb-4c85-ae53-21beb92a70e3"
      },
      "execution_count": null,
      "outputs": [
        {
          "output_type": "stream",
          "name": "stdout",
          "text": [
            "Failed to accept Null Hypothesis\n"
          ]
        }
      ]
    },
    {
      "cell_type": "markdown",
      "source": [
        "\n",
        "**Conclusion:**\n",
        "\n",
        "From the Hypothesis Testing We accept the Null Hypothesis. So,The restaurent owner does not claim the weekly operating costs are higher than the model suggests."
      ],
      "metadata": {
        "id": "y4vXkO_-PWka"
      }
    },
    {
      "cell_type": "code",
      "source": [],
      "metadata": {
        "id": "12AJ1l3HOzut"
      },
      "execution_count": null,
      "outputs": []
    }
  ]
}